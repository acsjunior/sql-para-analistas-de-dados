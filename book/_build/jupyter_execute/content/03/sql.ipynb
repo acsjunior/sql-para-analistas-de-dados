{
 "cells": [
  {
   "cell_type": "markdown",
   "metadata": {},
   "source": [
    "# Consultas SQL\n",
    "\n",
    "Neste capítulo utilizaremos extensivamente a instrução <code>SELECT</code> para realizar consultas no banco de dados criado no capítulo anterior."
   ]
  },
  {
   "cell_type": "markdown",
   "metadata": {},
   "source": [
    "## Estrutura básica"
   ]
  },
  {
   "cell_type": "code",
   "execution_count": 1,
   "metadata": {
    "tags": [
     "remove-cell"
    ]
   },
   "outputs": [
    {
     "data": {
      "text/plain": [
       "'ecom.db'"
      ]
     },
     "execution_count": 1,
     "metadata": {},
     "output_type": "execute_result"
    }
   ],
   "source": [
    "# Setup\n",
    "import shutil\n",
    "\n",
    "shutil.copyfile('../02/ecom.db', 'ecom.db')"
   ]
  },
  {
   "cell_type": "code",
   "execution_count": 2,
   "metadata": {},
   "outputs": [],
   "source": [
    "%load_ext sql\n",
    "%sql sqlite:///ecom.db"
   ]
  },
  {
   "cell_type": "markdown",
   "metadata": {},
   "source": [
    "A instrução <code>SELECT</code> é utilizada para realizar consultas no banco de dados. Por exemplo, para consultar todos os registros da tabela **tb_cliente**, utilizamos a seguinte instrução:"
   ]
  },
  {
   "cell_type": "code",
   "execution_count": 3,
   "metadata": {
    "vscode": {
     "languageId": "sql"
    }
   },
   "outputs": [
    {
     "name": "stdout",
     "output_type": "stream",
     "text": [
      " * sqlite:///ecom.db\n",
      "Done.\n"
     ]
    },
    {
     "data": {
      "text/html": [
       "<table>\n",
       "    <thead>\n",
       "        <tr>\n",
       "            <th>cd_cliente</th>\n",
       "            <th>nm_cliente</th>\n",
       "            <th>ds_email</th>\n",
       "            <th>dt_nascimento</th>\n",
       "        </tr>\n",
       "    </thead>\n",
       "    <tbody>\n",
       "        <tr>\n",
       "            <td>1</td>\n",
       "            <td>Noel Rosa</td>\n",
       "            <td>noelrosa@gmail.com</td>\n",
       "            <td>1910-12-11</td>\n",
       "        </tr>\n",
       "        <tr>\n",
       "            <td>2</td>\n",
       "            <td>Clara Nunes</td>\n",
       "            <td>claranunes@yahoo.com</td>\n",
       "            <td>1942-08-12</td>\n",
       "        </tr>\n",
       "        <tr>\n",
       "            <td>3</td>\n",
       "            <td>Clementina de Jesus</td>\n",
       "            <td>clementinadejesus@yahoo.com</td>\n",
       "            <td>1901-02-07</td>\n",
       "        </tr>\n",
       "        <tr>\n",
       "            <td>4</td>\n",
       "            <td>Angenor de Oliveira Cartola</td>\n",
       "            <td>cartola@gmail.com</td>\n",
       "            <td>1908-10-11</td>\n",
       "        </tr>\n",
       "    </tbody>\n",
       "</table>"
      ],
      "text/plain": [
       "[(1, 'Noel Rosa', 'noelrosa@gmail.com', '1910-12-11'),\n",
       " (2, 'Clara Nunes', 'claranunes@yahoo.com', '1942-08-12'),\n",
       " (3, 'Clementina de Jesus', 'clementinadejesus@yahoo.com', '1901-02-07'),\n",
       " (4, 'Angenor de Oliveira Cartola', 'cartola@gmail.com', '1908-10-11')]"
      ]
     },
     "execution_count": 3,
     "metadata": {},
     "output_type": "execute_result"
    }
   ],
   "source": [
    "%%sql\n",
    "\n",
    "SELECT *\n",
    "FROM tb_cliente"
   ]
  },
  {
   "cell_type": "markdown",
   "metadata": {},
   "source": [
    "Observe que a estrutura da consulta pode ser interpretada como uma instrução para o SGBD: \n",
    "\n",
    "*Selecione (SELECT) todas as colunas (\\*) da tabela (FROM) tb_cliente.*"
   ]
  },
  {
   "cell_type": "markdown",
   "metadata": {},
   "source": [
    "Nem sempre precisamos de todas as colunas na nossa consulta. Por exemplo, para selecionar somente as colunas **cd_cliente** e **nm_cliente**:"
   ]
  },
  {
   "cell_type": "code",
   "execution_count": 4,
   "metadata": {
    "vscode": {
     "languageId": "sql"
    }
   },
   "outputs": [
    {
     "name": "stdout",
     "output_type": "stream",
     "text": [
      " * sqlite:///ecom.db\n",
      "Done.\n"
     ]
    },
    {
     "data": {
      "text/html": [
       "<table>\n",
       "    <thead>\n",
       "        <tr>\n",
       "            <th>cd_cliente</th>\n",
       "            <th>nm_cliente</th>\n",
       "        </tr>\n",
       "    </thead>\n",
       "    <tbody>\n",
       "        <tr>\n",
       "            <td>1</td>\n",
       "            <td>Noel Rosa</td>\n",
       "        </tr>\n",
       "        <tr>\n",
       "            <td>2</td>\n",
       "            <td>Clara Nunes</td>\n",
       "        </tr>\n",
       "        <tr>\n",
       "            <td>3</td>\n",
       "            <td>Clementina de Jesus</td>\n",
       "        </tr>\n",
       "        <tr>\n",
       "            <td>4</td>\n",
       "            <td>Angenor de Oliveira Cartola</td>\n",
       "        </tr>\n",
       "    </tbody>\n",
       "</table>"
      ],
      "text/plain": [
       "[(1, 'Noel Rosa'),\n",
       " (2, 'Clara Nunes'),\n",
       " (3, 'Clementina de Jesus'),\n",
       " (4, 'Angenor de Oliveira Cartola')]"
      ]
     },
     "execution_count": 4,
     "metadata": {},
     "output_type": "execute_result"
    }
   ],
   "source": [
    "%%sql\n",
    "\n",
    "SELECT cd_cliente, nm_cliente\n",
    "FROM tb_cliente"
   ]
  },
  {
   "cell_type": "markdown",
   "metadata": {},
   "source": [
    "A instrução pode ser lida da seguinte forma:\n",
    "\n",
    "*Selecione (SELECT) as colunas cd_cliente e nm_cliente da tabela (FROM) tb_cliente.*"
   ]
  },
  {
   "cell_type": "markdown",
   "metadata": {},
   "source": [
    "Assim como podemos limitar as colunas da consulta, também podemos limitar a quantidade de registros. Por exemplo, para selecionar somente clientes com data de nascimento a partir de 1910:"
   ]
  },
  {
   "cell_type": "code",
   "execution_count": 5,
   "metadata": {
    "vscode": {
     "languageId": "sql"
    }
   },
   "outputs": [
    {
     "name": "stdout",
     "output_type": "stream",
     "text": [
      " * sqlite:///ecom.db\n",
      "Done.\n"
     ]
    },
    {
     "data": {
      "text/html": [
       "<table>\n",
       "    <thead>\n",
       "        <tr>\n",
       "            <th>cd_cliente</th>\n",
       "            <th>nm_cliente</th>\n",
       "            <th>ds_email</th>\n",
       "            <th>dt_nascimento</th>\n",
       "        </tr>\n",
       "    </thead>\n",
       "    <tbody>\n",
       "        <tr>\n",
       "            <td>1</td>\n",
       "            <td>Noel Rosa</td>\n",
       "            <td>noelrosa@gmail.com</td>\n",
       "            <td>1910-12-11</td>\n",
       "        </tr>\n",
       "        <tr>\n",
       "            <td>2</td>\n",
       "            <td>Clara Nunes</td>\n",
       "            <td>claranunes@yahoo.com</td>\n",
       "            <td>1942-08-12</td>\n",
       "        </tr>\n",
       "    </tbody>\n",
       "</table>"
      ],
      "text/plain": [
       "[(1, 'Noel Rosa', 'noelrosa@gmail.com', '1910-12-11'),\n",
       " (2, 'Clara Nunes', 'claranunes@yahoo.com', '1942-08-12')]"
      ]
     },
     "execution_count": 5,
     "metadata": {},
     "output_type": "execute_result"
    }
   ],
   "source": [
    "%%sql\n",
    "\n",
    "SELECT *\n",
    "FROM tb_cliente \n",
    "WHERE dt_nascimento >= '1910-01-01'"
   ]
  },
  {
   "cell_type": "markdown",
   "metadata": {},
   "source": [
    "Perceba que a instrução pode ser lida da seguinte forma:\n",
    "\n",
    "*Selecione (SELECT) todas as colunas (\\*) da tabela (FROM) tb_cliente, mas somente registros onde (WHERE) a data de nascimento seja maior ou igual a 01/01/1910.*"
   ]
  },
  {
   "cell_type": "markdown",
   "metadata": {},
   "source": [
    "## Condições\n",
    "\n",
    "Por meio da cláusula <code>WHERE</code> podemos definir condições para selecionar um subconjunto de registros. Vamos ver alguns exemplos.\n",
    "\n",
    "Para selecionar clientes com data de nascimento entre 11/10/1908 e 31/12/1940:"
   ]
  },
  {
   "cell_type": "code",
   "execution_count": 6,
   "metadata": {
    "vscode": {
     "languageId": "sql"
    }
   },
   "outputs": [
    {
     "name": "stdout",
     "output_type": "stream",
     "text": [
      " * sqlite:///ecom.db\n",
      "Done.\n"
     ]
    },
    {
     "data": {
      "text/html": [
       "<table>\n",
       "    <thead>\n",
       "        <tr>\n",
       "            <th>cd_cliente</th>\n",
       "            <th>nm_cliente</th>\n",
       "            <th>ds_email</th>\n",
       "            <th>dt_nascimento</th>\n",
       "        </tr>\n",
       "    </thead>\n",
       "    <tbody>\n",
       "        <tr>\n",
       "            <td>1</td>\n",
       "            <td>Noel Rosa</td>\n",
       "            <td>noelrosa@gmail.com</td>\n",
       "            <td>1910-12-11</td>\n",
       "        </tr>\n",
       "        <tr>\n",
       "            <td>4</td>\n",
       "            <td>Angenor de Oliveira Cartola</td>\n",
       "            <td>cartola@gmail.com</td>\n",
       "            <td>1908-10-11</td>\n",
       "        </tr>\n",
       "    </tbody>\n",
       "</table>"
      ],
      "text/plain": [
       "[(1, 'Noel Rosa', 'noelrosa@gmail.com', '1910-12-11'),\n",
       " (4, 'Angenor de Oliveira Cartola', 'cartola@gmail.com', '1908-10-11')]"
      ]
     },
     "execution_count": 6,
     "metadata": {},
     "output_type": "execute_result"
    }
   ],
   "source": [
    "%%sql\n",
    "\n",
    "SELECT *\n",
    "FROM tb_cliente\n",
    "WHERE dt_nascimento >= '1908-10-11' AND dt_nascimento <= '1940-12-31'"
   ]
  },
  {
   "cell_type": "markdown",
   "metadata": {},
   "source": [
    "Observe que foi usado apenas o operador <code>AND</code> para estruturar a condição. Mas existe uma maneira de simplificar esta condição, utilizando a cláusula <code>BETWEEN</code>."
   ]
  },
  {
   "cell_type": "code",
   "execution_count": 7,
   "metadata": {
    "vscode": {
     "languageId": "sql"
    }
   },
   "outputs": [
    {
     "name": "stdout",
     "output_type": "stream",
     "text": [
      " * sqlite:///ecom.db\n",
      "Done.\n"
     ]
    },
    {
     "data": {
      "text/html": [
       "<table>\n",
       "    <thead>\n",
       "        <tr>\n",
       "            <th>cd_cliente</th>\n",
       "            <th>nm_cliente</th>\n",
       "            <th>ds_email</th>\n",
       "            <th>dt_nascimento</th>\n",
       "        </tr>\n",
       "    </thead>\n",
       "    <tbody>\n",
       "        <tr>\n",
       "            <td>1</td>\n",
       "            <td>Noel Rosa</td>\n",
       "            <td>noelrosa@gmail.com</td>\n",
       "            <td>1910-12-11</td>\n",
       "        </tr>\n",
       "        <tr>\n",
       "            <td>4</td>\n",
       "            <td>Angenor de Oliveira Cartola</td>\n",
       "            <td>cartola@gmail.com</td>\n",
       "            <td>1908-10-11</td>\n",
       "        </tr>\n",
       "    </tbody>\n",
       "</table>"
      ],
      "text/plain": [
       "[(1, 'Noel Rosa', 'noelrosa@gmail.com', '1910-12-11'),\n",
       " (4, 'Angenor de Oliveira Cartola', 'cartola@gmail.com', '1908-10-11')]"
      ]
     },
     "execution_count": 7,
     "metadata": {},
     "output_type": "execute_result"
    }
   ],
   "source": [
    "%%sql\n",
    "\n",
    "SELECT *\n",
    "FROM tb_cliente\n",
    "WHERE dt_nascimento BETWEEN '1908-10-11' AND '1940-12-31'"
   ]
  },
  {
   "cell_type": "markdown",
   "metadata": {},
   "source": []
  },
  {
   "cell_type": "code",
   "execution_count": null,
   "metadata": {},
   "outputs": [],
   "source": []
  },
  {
   "cell_type": "code",
   "execution_count": null,
   "metadata": {},
   "outputs": [],
   "source": []
  },
  {
   "cell_type": "code",
   "execution_count": null,
   "metadata": {},
   "outputs": [],
   "source": []
  },
  {
   "cell_type": "markdown",
   "metadata": {},
   "source": [
    "Selecionando o nome dos clientes com data de nascimento entre 11/10/1908 e 31/12/1940:"
   ]
  },
  {
   "cell_type": "code",
   "execution_count": 7,
   "metadata": {},
   "outputs": [
    {
     "name": "stdout",
     "output_type": "stream",
     "text": [
      " * sqlite:///ecom.db\n",
      "Done.\n"
     ]
    },
    {
     "data": {
      "text/html": [
       "<table>\n",
       "    <thead>\n",
       "        <tr>\n",
       "            <th>nm_cliente</th>\n",
       "        </tr>\n",
       "    </thead>\n",
       "    <tbody>\n",
       "        <tr>\n",
       "            <td>Noel Rosa</td>\n",
       "        </tr>\n",
       "        <tr>\n",
       "            <td>Angenor de Oliveira Cartola</td>\n",
       "        </tr>\n",
       "    </tbody>\n",
       "</table>"
      ],
      "text/plain": [
       "[('Noel Rosa',), ('Angenor de Oliveira Cartola',)]"
      ]
     },
     "execution_count": 7,
     "metadata": {},
     "output_type": "execute_result"
    }
   ],
   "source": []
  },
  {
   "cell_type": "code",
   "execution_count": 8,
   "metadata": {},
   "outputs": [
    {
     "name": "stdout",
     "output_type": "stream",
     "text": [
      " * sqlite:///ecom.db\n",
      "Done.\n"
     ]
    },
    {
     "data": {
      "text/html": [
       "<table>\n",
       "    <thead>\n",
       "        <tr>\n",
       "            <th>nm_cliente</th>\n",
       "        </tr>\n",
       "    </thead>\n",
       "    <tbody>\n",
       "        <tr>\n",
       "            <td>Noel Rosa</td>\n",
       "        </tr>\n",
       "        <tr>\n",
       "            <td>Angenor de Oliveira Cartola</td>\n",
       "        </tr>\n",
       "    </tbody>\n",
       "</table>"
      ],
      "text/plain": [
       "[('Noel Rosa',), ('Angenor de Oliveira Cartola',)]"
      ]
     },
     "execution_count": 8,
     "metadata": {},
     "output_type": "execute_result"
    }
   ],
   "source": [
    "%%sql\n",
    "\n",
    "SELECT \n",
    "    nm_cliente\n",
    "FROM tb_cliente\n",
    "WHERE dt_nascimento BETWEEN '1908-10-11' AND '1940-12-31'"
   ]
  },
  {
   "cell_type": "markdown",
   "metadata": {},
   "source": [
    "Selecionando o nome dos clientes que nasceram antes de 01/01/1908 ou depois de 31/12/1910:"
   ]
  },
  {
   "cell_type": "code",
   "execution_count": 9,
   "metadata": {},
   "outputs": [
    {
     "name": "stdout",
     "output_type": "stream",
     "text": [
      " * sqlite:///ecom.db\n",
      "Done.\n"
     ]
    },
    {
     "data": {
      "text/html": [
       "<table>\n",
       "    <thead>\n",
       "        <tr>\n",
       "            <th>nm_cliente</th>\n",
       "        </tr>\n",
       "    </thead>\n",
       "    <tbody>\n",
       "        <tr>\n",
       "            <td>Clara Nunes</td>\n",
       "        </tr>\n",
       "        <tr>\n",
       "            <td>Clementina de Jesus</td>\n",
       "        </tr>\n",
       "    </tbody>\n",
       "</table>"
      ],
      "text/plain": [
       "[('Clara Nunes',), ('Clementina de Jesus',)]"
      ]
     },
     "execution_count": 9,
     "metadata": {},
     "output_type": "execute_result"
    }
   ],
   "source": [
    "%%sql\n",
    "\n",
    "SELECT \n",
    "    nm_cliente\n",
    "FROM tb_cliente\n",
    "WHERE dt_nascimento < '1908-01-01'\n",
    " OR dt_nascimento > '1910-12-31'"
   ]
  },
  {
   "cell_type": "markdown",
   "metadata": {},
   "source": [
    "Selecionando os clientes com código 1, 2 ou 4."
   ]
  },
  {
   "cell_type": "code",
   "execution_count": 10,
   "metadata": {},
   "outputs": [
    {
     "name": "stdout",
     "output_type": "stream",
     "text": [
      " * sqlite:///ecom.db\n",
      "Done.\n"
     ]
    },
    {
     "data": {
      "text/html": [
       "<table>\n",
       "    <thead>\n",
       "        <tr>\n",
       "            <th>cd_cliente</th>\n",
       "            <th>nm_cliente</th>\n",
       "            <th>ds_email</th>\n",
       "            <th>dt_nascimento</th>\n",
       "        </tr>\n",
       "    </thead>\n",
       "    <tbody>\n",
       "        <tr>\n",
       "            <td>1</td>\n",
       "            <td>Noel Rosa</td>\n",
       "            <td>noelrosa@gmail.com</td>\n",
       "            <td>1910-12-11</td>\n",
       "        </tr>\n",
       "        <tr>\n",
       "            <td>2</td>\n",
       "            <td>Clara Nunes</td>\n",
       "            <td>claranunes@yahoo.com</td>\n",
       "            <td>1942-08-12</td>\n",
       "        </tr>\n",
       "        <tr>\n",
       "            <td>4</td>\n",
       "            <td>Angenor de Oliveira Cartola</td>\n",
       "            <td>cartola@gmail.com</td>\n",
       "            <td>1908-10-11</td>\n",
       "        </tr>\n",
       "    </tbody>\n",
       "</table>"
      ],
      "text/plain": [
       "[(1, 'Noel Rosa', 'noelrosa@gmail.com', '1910-12-11'),\n",
       " (2, 'Clara Nunes', 'claranunes@yahoo.com', '1942-08-12'),\n",
       " (4, 'Angenor de Oliveira Cartola', 'cartola@gmail.com', '1908-10-11')]"
      ]
     },
     "execution_count": 10,
     "metadata": {},
     "output_type": "execute_result"
    }
   ],
   "source": [
    "%%sql\n",
    "\n",
    "SELECT \n",
    "    *\n",
    "FROM tb_cliente\n",
    "WHERE cd_cliente = 1\n",
    "    OR cd_cliente = 2\n",
    "    OR cd_cliente = 4"
   ]
  },
  {
   "cell_type": "code",
   "execution_count": 11,
   "metadata": {},
   "outputs": [
    {
     "name": "stdout",
     "output_type": "stream",
     "text": [
      " * sqlite:///ecom.db\n",
      "Done.\n"
     ]
    },
    {
     "data": {
      "text/html": [
       "<table>\n",
       "    <thead>\n",
       "        <tr>\n",
       "            <th>cd_cliente</th>\n",
       "            <th>nm_cliente</th>\n",
       "            <th>ds_email</th>\n",
       "            <th>dt_nascimento</th>\n",
       "        </tr>\n",
       "    </thead>\n",
       "    <tbody>\n",
       "        <tr>\n",
       "            <td>1</td>\n",
       "            <td>Noel Rosa</td>\n",
       "            <td>noelrosa@gmail.com</td>\n",
       "            <td>1910-12-11</td>\n",
       "        </tr>\n",
       "        <tr>\n",
       "            <td>2</td>\n",
       "            <td>Clara Nunes</td>\n",
       "            <td>claranunes@yahoo.com</td>\n",
       "            <td>1942-08-12</td>\n",
       "        </tr>\n",
       "        <tr>\n",
       "            <td>4</td>\n",
       "            <td>Angenor de Oliveira Cartola</td>\n",
       "            <td>cartola@gmail.com</td>\n",
       "            <td>1908-10-11</td>\n",
       "        </tr>\n",
       "    </tbody>\n",
       "</table>"
      ],
      "text/plain": [
       "[(1, 'Noel Rosa', 'noelrosa@gmail.com', '1910-12-11'),\n",
       " (2, 'Clara Nunes', 'claranunes@yahoo.com', '1942-08-12'),\n",
       " (4, 'Angenor de Oliveira Cartola', 'cartola@gmail.com', '1908-10-11')]"
      ]
     },
     "execution_count": 11,
     "metadata": {},
     "output_type": "execute_result"
    }
   ],
   "source": [
    "%%sql\n",
    "\n",
    "SELECT \n",
    "    *\n",
    "FROM tb_cliente\n",
    "WHERE cd_cliente IN (1,2,4)"
   ]
  },
  {
   "cell_type": "code",
   "execution_count": null,
   "metadata": {},
   "outputs": [],
   "source": []
  }
 ],
 "metadata": {
  "kernelspec": {
   "display_name": ".venv",
   "language": "python",
   "name": "python3"
  },
  "language_info": {
   "codemirror_mode": {
    "name": "ipython",
    "version": 3
   },
   "file_extension": ".py",
   "mimetype": "text/x-python",
   "name": "python",
   "nbconvert_exporter": "python",
   "pygments_lexer": "ipython3",
   "version": "3.9.13"
  }
 },
 "nbformat": 4,
 "nbformat_minor": 2
}