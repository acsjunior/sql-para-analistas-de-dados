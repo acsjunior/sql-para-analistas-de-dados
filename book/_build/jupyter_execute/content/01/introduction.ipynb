{
 "cells": [
  {
   "attachments": {},
   "cell_type": "markdown",
   "metadata": {},
   "source": [
    "# Introdução\n",
    "\n",
    "O objetivo deste capítulo é introduzir ao leitor o que exatamente é SQL, e orientar como reproduzir facilmente os códigos ao longo do livro."
   ]
  },
  {
   "attachments": {},
   "cell_type": "markdown",
   "metadata": {},
   "source": [
    "\n",
    "## O que é SQL?\n",
    "\n",
    "Para definirmos o que é SQL, precisamos antes passar pelos seguintes conceitos:\n",
    "\n",
    "* **Dados** são valores que, de forma isolada, não possuem significado ou utilidade. Podemos pensar em dados como matéria-prima para informação. Por exemplo, imagine um arquivo composto por fichas de pacientes de uma clínica. Cada ficha é composta por dados de pacientes, como, por exemplo, nome, endereço e datas das consultas. Observe que dado é o elemento básico deste arquivo.\n",
    "\n",
    "* **Registro** é a combinação de diferentes dados, de modo a criar algum contexto e sentido para os mesmos. No exemplo do arquivo de pacientes da clínica, observe que os dados de cada ficha, de forma isolada, não possuem utilidade. No entanto, a combinação dos dados na ficha de um particular paciente, ou melhor, em um registro, gera contexto e significado para eles.\n",
    "\n",
    "* **Informação** é o resultado do processamento e interpretação dos dados. Por exemplo, o número de dias desde a última consulta de um determinado paciente é uma informação extraída a partir da interpretação de um registro. Outro exemplo, o dia da semana com o maior número de atendimento é uma informação extraída a partir do processamento dos dados de todos os registros.\n",
    "\n",
    "* **Banco de dados** é uma coleção de arquivos inter-relacionados. No exemplo da clínica, além do arquivo dos pacientes, podemos considerar que existem mais arquivos como, por exemplo, o dos funcionários. Estes arquivos em conjunto formam o banco de dados da clínica. Observe que o conceito de banco de dados se aplica tanto para dados informatizados como não informatizados.\n",
    "\n",
    "* **SGBD** (Sistema Gerenciador de Banco de Dados) é um programa para gerenciar e facilitar o uso do banco de dados, atuando como uma interface entre os usuários e o banco de dados. Por meio do SGBD é possível não só ler os dados armazenados, como inserir novos, atualizá-los e removê-los de forma eficiente e segura, entre outras funcionalidades. No exemplo da clínica, uma vez que seus dados são não informatizados, podemos imaginar que o papel do SGBD poderia ser realizado por uma pessoa responsável por gerenciar os arquivos. Esta pessoa seria responsável buscar, inserir, alterar e apagar os registros dos pacientes sob solicitação, por exemplo, de uma secretária.\n",
    "\n",
    "Podemos classificar os dados em três grupos:\n",
    "\n",
    "* **Estruturados**: São os dados que seguem uma estrutura organizacional pré-definida. Quando voltamos ao exemplo do cadastro dos pacientes, todo cadastro obedece a mesma estrutura (mesmos campos). Logo, poderiamos facilmente armazená-los eletronicamente em uma tabela, onde cada linha representa o registro de um paciente e cada coluna, um campo presente na ficha.\n",
    "\n",
    "* **Não estruturados**: São os dados que não se encaixam em uma estrutura organizacional pré definida. No exemplo da clínica poderíamos dizer que a imagem do raio-x é um dado não estruturado. Fotos, vídeos, áudios e textos livres são alguns exemplos de dados não estruturados.\n",
    "\n",
    "* **Semiestruturados**: São dados que possuem estrutura organizacional, mas esta estrutura pode variar. No exemplo da clínica foi dito que as fichas dos pacientes são compostas pelos campos nome, endereço e datas das consultas. Agora imagine se os campos presentes não fossem exatamente os mesmos em cada ficha. Neste caso poderíamos dizer que estaríamos lidando com dados semiestruturados.\n",
    "\n",
    "Já os bancos de dados possuem diferentes tipos, cada um projetado para atender diferentes necessidades. Podemos classificar os mais conhecidos em dois grupos:\n",
    "\n",
    "* **Relacionais**: É o tipo de banco de dados mais popular, projetado para garantir a consistência e a integridade dos dados. Neste tipo os registros são organizados em tabelas que podem ser relacionadas por meio de chaves (campos identificadores). Alguns dos SGBDs mais conhecidos são MySQL, SQL Server, Oracle Database, PortgreSQL, SQLite.\n",
    "\n",
    "* **NoSQL** (Not Only SQL): Este tipo é projetado para lidar com dados não estruturados ou semiestruturados. O armazenamento dos dados pode ser feito em formato de documentos, grafos, chave-valor ou colunas. Alguns dos SGBDs mais conhecidos são MongoDB, Cassandra, Neo4j, Redis e HBase.\n",
    "\n",
    "Finalmente podemos definir **SQL** (Structured Query Language ou Linguagem de Consulta Estruturada) como uma linguagem de programação baseada em álgebra relacional, que surgiu nos anos 70 para interação com **bancos de dados relacionais**. Diferentemente de linguagens como Python, que são consideradas imperativas (isto é, o programador precisa especificar passo a passo o que o sistema deve executar para que um determinado resultado seja obtido), SQL é uma linguagem declarativa, o que na prática significa que o programador declara qual resultado deseja e permite que o sistema determine como obtê-lo. No exemplo da clínica, supondo que ela passou por uma transformação digital, e todos aqueles dados agora estão armazenados eletronicamente em um banco de dados relacional, agora operações de CRUD (create, read, update, delete ou inserção, leitura, atualização e remoção), entre outras operações, devem ser realizadas via instruções em linguagem SQL por meio de um SGBD.\n",
    "\n",
    "A linguagem SQL pode ser dividida nas seguintes partes:\n",
    "\n",
    "* **DDL** (*Data Definition Language* ou Linguagem de Definição de Dados): engloba comandos para criação (<code>CREATE</code>), alteração (<code>ALTER</code>) e deleção (<code>DROP</code>) de objetos em um banco de dados;\n",
    "\n",
    "* **DML** (*Data Manipulation Language* ou Linguagem de Manipulação de Dados): engolba comandos para operações de CRUD no banco de dados, entre eles os comandos de inserção de novos dados (<code>INSERT</code>), consulta ou leitura no banco de dados (<code>SELECT</code>), atualização nos dados (<code>UPDATE</code>) e remoção de linhas (<code>DELETE</code>). Em alguns materiais o comando <code>SELECT</code> faz parte de um grupo chamado DQL (*Data Query Language* ou Linguagem de Consulta de Dados).\n",
    "\n",
    "* **DCL** (*Data Control Language* ou Linguagem de Controle de Dados): engloba comandos para controle de acesso aos dados, entre eles o <code>GRANT</code> para conceder e o <code>REVOKE</code> para retirar privilégios de acesso;\n",
    "\n",
    "* **DTL** (*Data Transaction Language* ou Linguagem de Transação de Dados): engloba comandos para o controle de transações no banco de dados, entre eles os comando <code>BEGIN</code>, <code>COMMIT</code> e <code>ROLLBACK</code>, para o início, fim e reversão de uma transação, respectivamente.\n",
    "\n",
    "A maioria das operações em banco de dados no contexto da ciência de dados é realizada por meio de comandos DML, em especial o SELECT. Os comandos DDL também são utilizados, porém em menor escala. Já os comandos DCL e DTL são menos comuns de serem utilizados por profissionais de ciência de dados. \n",
    "\n",
    "A maioria das operações em banco de dados no contexto da ciência de dados é realizada por meio de comandos DML, em especial o <code>SELECT</code>. Além disso, para prepararmos o ambiente necessário para a prática, bem como exemplificar conceitos de normalização e relacionamentos que serão vistos, alguns comandos DDL também serão utilizados. Sendo assim, este livro irá desprezar a partir de agora os comandos DCL e DTL."
   ]
  },
  {
   "attachments": {},
   "cell_type": "markdown",
   "metadata": {},
   "source": [
    "(introduction:reproduction)=\n",
    "## Como reproduzir os exemplos?\n",
    "\n",
    "Neste seção você vai aprender como como criar um banco de dados [SQLite](https://www.sqlite.org/index.html) e executar instruções SQL no [Jupyter Notebook](https://jupyter.org/). Este conhecimento é necessário para a reprodução dos exemplos em todo o livro."
   ]
  },
  {
   "cell_type": "code",
   "execution_count": 1,
   "metadata": {
    "tags": [
     "remove-cell"
    ]
   },
   "outputs": [],
   "source": [
    "# Setup\n",
    "import os\n",
    "\n",
    "DB_FILE = \"mydb.db\"\n",
    "if os.path.exists(DB_FILE):\n",
    "    os.remove(DB_FILE)"
   ]
  },
  {
   "attachments": {},
   "cell_type": "markdown",
   "metadata": {},
   "source": [
    "Como primeiro passo, instale as seguintes bibliotecas no seu ambiente Python:\n",
    "\n",
    "* ipykernel\n",
    "* ipython-sql"
   ]
  },
  {
   "attachments": {},
   "cell_type": "markdown",
   "metadata": {},
   "source": [
    "```{code-cell}\n",
    "print(2 + 2)\n",
    "```"
   ]
  },
  {
   "attachments": {},
   "cell_type": "markdown",
   "metadata": {},
   "source": [
    "`````{admonition} Importante\n",
    ":class: important\n",
    "\n",
    "Os exemplos práticos deste livro foram desenvolvidos utilizando Python 3.9.13 com as bibliotecas ipykernel e ipython-sql nas versões 6.25.0 e 0.5.0, respectivamente. Em caso de problemas para reproduzir os exemplos, considere utilizar as mesmas versões.\n",
    "`````\n",
    "\n",
    "`````{admonition} Dica\n",
    ":class: tip\n",
    "\n",
    "Para instalar a versão específica de uma biblioteca, por exemplo, ipython-sql 0.5.0, execute no notebook <code>!pip install ipython-sql==0.5.0</code>.\n",
    "`````\n",
    "\n",
    "Instaladas todas as dependências, execute o seguinte **comando mágico** no notebook:"
   ]
  },
  {
   "cell_type": "code",
   "execution_count": 2,
   "metadata": {},
   "outputs": [],
   "source": [
    "%load_ext sql"
   ]
  },
  {
   "attachments": {},
   "cell_type": "markdown",
   "metadata": {},
   "source": [
    "Este comando carrega a extensão **sql**, utilizada para estabelecer a conexão com o banco de dados que iremos criar.\n",
    "\n",
    "`````{admonition} Dica\n",
    ":class: tip\n",
    "\n",
    "Os comandos mágicos do Jupyter Notebook são funções que fornecem funcionalidades extras ao notebook, além do que pode-se realizar via código Python. \n",
    "\n",
    "Para saber mais, acesse esta [documentação](https://ipython.readthedocs.io/en/stable/interactive/magics.html).\n",
    "`````\n",
    "\n",
    "Em seguida, execute o comando abaixo para conectar-se com o banco de dados SQLite. Caso o banco ainda não exista, ele será criado. Note que **mydb.db** é o nome escolhido para para o banco de dados neste exemplo. Você pode escolher outro nome mais conveniente, caso deseje."
   ]
  },
  {
   "cell_type": "code",
   "execution_count": 3,
   "metadata": {},
   "outputs": [],
   "source": [
    "%sql sqlite:///mydb.db"
   ]
  },
  {
   "attachments": {},
   "cell_type": "markdown",
   "metadata": {},
   "source": [
    "Com o banco de dados criado criado, agora é possível executar instruções SQL. Vamos criar, como exemplo, a tabela TB_CLIENTE:"
   ]
  },
  {
   "cell_type": "code",
   "execution_count": 4,
   "metadata": {
    "vscode": {
     "languageId": "sql"
    }
   },
   "outputs": [
    {
     "name": "stdout",
     "output_type": "stream",
     "text": [
      " * sqlite:///mydb.db\n",
      "Done.\n"
     ]
    },
    {
     "data": {
      "text/plain": [
       "[]"
      ]
     },
     "execution_count": 4,
     "metadata": {},
     "output_type": "execute_result"
    }
   ],
   "source": [
    "%%sql\n",
    "\n",
    "CREATE TABLE tb_cliente ( \n",
    "\tcd_cliente INTEGER PRIMARY KEY,\n",
    "\tnm_cliente TEXT NOT NULL,\n",
    "\tds_email TEXT NOT NULL UNIQUE\n",
    ");"
   ]
  },
  {
   "attachments": {},
   "cell_type": "markdown",
   "metadata": {},
   "source": [
    "Observe que agora o comando mágico foi executado utilizando **%%** ao invés de **%**. Isto se deve ao fato de **%** ser aplicado a comandos orientados a linha, enquanto **%%**, a comandos orientados a célula. Você pode aprender mais sobre comandos mágicos nesta [documentação](https://ipython.readthedocs.io/en/stable/interactive/magics.html).\n",
    "\n",
    "Para enriquecer o exemplo, vamos inserir alguns dados na tabela recém criada:"
   ]
  },
  {
   "cell_type": "code",
   "execution_count": 5,
   "metadata": {
    "vscode": {
     "languageId": "sql"
    }
   },
   "outputs": [
    {
     "name": "stdout",
     "output_type": "stream",
     "text": [
      " * sqlite:///mydb.db\n",
      "4 rows affected.\n"
     ]
    },
    {
     "data": {
      "text/plain": [
       "[]"
      ]
     },
     "execution_count": 5,
     "metadata": {},
     "output_type": "execute_result"
    }
   ],
   "source": [
    "%%sql\n",
    "\n",
    "INSERT INTO tb_cliente (nm_cliente, ds_email) \n",
    "VALUES\n",
    "    ('Hildemar Diniz Monarco' , 'monarco@gmail.com'),\n",
    "    ('Dona Ivone Lara' , 'donaivone@gmail.com'),\n",
    "    ('Antônio Candeia' , 'candeia@yahoo.com'),\n",
    "    ('Jovelina Pérola Negra' , 'perolanegra@yahoo.com');"
   ]
  },
  {
   "attachments": {},
   "cell_type": "markdown",
   "metadata": {},
   "source": [
    "Por fim, vamos consultar os dados da tabela TB_CLIENTE:"
   ]
  },
  {
   "cell_type": "code",
   "execution_count": 6,
   "metadata": {
    "vscode": {
     "languageId": "sql"
    }
   },
   "outputs": [
    {
     "name": "stdout",
     "output_type": "stream",
     "text": [
      " * sqlite:///mydb.db\n",
      "Done.\n"
     ]
    },
    {
     "data": {
      "text/html": [
       "<table>\n",
       "    <thead>\n",
       "        <tr>\n",
       "            <th>cd_cliente</th>\n",
       "            <th>nm_cliente</th>\n",
       "            <th>ds_email</th>\n",
       "        </tr>\n",
       "    </thead>\n",
       "    <tbody>\n",
       "        <tr>\n",
       "            <td>1</td>\n",
       "            <td>Hildemar Diniz Monarco</td>\n",
       "            <td>monarco@gmail.com</td>\n",
       "        </tr>\n",
       "        <tr>\n",
       "            <td>2</td>\n",
       "            <td>Dona Ivone Lara</td>\n",
       "            <td>donaivone@gmail.com</td>\n",
       "        </tr>\n",
       "        <tr>\n",
       "            <td>3</td>\n",
       "            <td>Antônio Candeia</td>\n",
       "            <td>candeia@yahoo.com</td>\n",
       "        </tr>\n",
       "        <tr>\n",
       "            <td>4</td>\n",
       "            <td>Jovelina Pérola Negra</td>\n",
       "            <td>perolanegra@yahoo.com</td>\n",
       "        </tr>\n",
       "    </tbody>\n",
       "</table>"
      ],
      "text/plain": [
       "[(1, 'Hildemar Diniz Monarco', 'monarco@gmail.com'),\n",
       " (2, 'Dona Ivone Lara', 'donaivone@gmail.com'),\n",
       " (3, 'Antônio Candeia', 'candeia@yahoo.com'),\n",
       " (4, 'Jovelina Pérola Negra', 'perolanegra@yahoo.com')]"
      ]
     },
     "execution_count": 6,
     "metadata": {},
     "output_type": "execute_result"
    }
   ],
   "source": [
    "%%sql\n",
    "\n",
    "SELECT * FROM TB_CLIENTE"
   ]
  },
  {
   "attachments": {},
   "cell_type": "markdown",
   "metadata": {},
   "source": [
    "Pronto, agora você já sabe como criar bancos de dados e executar instruções SQL no Jupyter Notebook."
   ]
  }
 ],
 "metadata": {
  "kernelspec": {
   "display_name": ".venv",
   "language": "python",
   "name": "python3"
  },
  "language_info": {
   "codemirror_mode": {
    "name": "ipython",
    "version": 3
   },
   "file_extension": ".py",
   "mimetype": "text/x-python",
   "name": "python",
   "nbconvert_exporter": "python",
   "pygments_lexer": "ipython3",
   "version": "3.9.13"
  }
 },
 "nbformat": 4,
 "nbformat_minor": 2
}