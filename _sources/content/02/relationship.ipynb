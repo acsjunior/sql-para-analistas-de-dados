{
 "cells": [
  {
   "cell_type": "code",
   "execution_count": null,
   "metadata": {
    "tags": [
     "remove-cell"
    ]
   },
   "outputs": [],
   "source": [
    "# Setup\n",
    "import os\n",
    "\n",
    "DB_FILE = \"ecom.db\"\n",
    "if os.path.exists(DB_FILE):\n",
    "    os.remove(DB_FILE)\n",
    "    "
   ]
  },
  {
   "attachments": {},
   "cell_type": "markdown",
   "metadata": {},
   "source": [
    "# Relacionamentos\n",
    "\n",
    "Em um banco de dados relacional, as associações entre tabelas são chamadas de relacionamentos. Esses relacionamentos são estabelecidos por meios de atributos (colunas) chave para criar uma estrutura organizada e eficiente para o armazenamento e a recuperação dos dados. \n",
    "\n",
    "Neste capítulo serão apresentados, por meio de exemplos práticos, os 3 possíveis tipos de relacionamentos entre tabelas. Além disso, serão definidos o que são chaves primária e estrangeira, conceitos fundamentais para compreender os relacionamentos. Os exemplos práticos podem ser reproduzidos facilmente no Jupyter Notebook. Se você não tem familiaridade com SQL, recomendo que leia a subseção {ref}`introduction:reproduction`.\n",
    "\n",
    "## Relacionamento 1:1 (um para um)\n",
    "\n",
    "Para exemplificarmos, vamos começar a construir o banco de dados de um sistema de e-commerce, conforme o seguinte **Diagrama Entidade-Relacionamento (DER)**:\n",
    "\n",
    "```{image} schema_ecom.png\n",
    ":alt: schema\n",
    ":width: 800px\n",
    ":align: center\n",
    "```\n",
    "\n",
    "`````{admonition} Dica\n",
    ":class: tip\n",
    "\n",
    "O DER é uma ferramenta utilizada em projetos de bancos de dados, para representar de forma gráfica a estrutura lógica de um banco de dados. Para saber um pouco mais, leia [este artigo](https://www.alura.com.br/artigos/mer-e-der-funcoes).\n",
    "`````\n",
    "\n",
    "Neste banco de dados, a tabela *tb_cliente* deve armazenar os dados pessoais dos clientes desta empresa. Nela, cada cliente cadastrado deve receber um código único, que será armazenado por meio do atributo *cd_cliente*. Além disso, a tabela deve armazenar nome, e-mail e data de nascimento dos clientes. Para criarmos a tabela, precisamos antes criar e estabelecer conexão com o banco de dados *ecom.db*:\n"
   ]
  },
  {
   "cell_type": "code",
   "execution_count": null,
   "metadata": {},
   "outputs": [],
   "source": [
    "%load_ext sql\n",
    "%sql sqlite:///ecom.db"
   ]
  },
  {
   "attachments": {},
   "cell_type": "markdown",
   "metadata": {},
   "source": [
    "Em seguida, executamos as seguintes instruções SQL para criar a tabela e inserir alguns registros:"
   ]
  },
  {
   "cell_type": "code",
   "execution_count": null,
   "metadata": {
    "vscode": {
     "languageId": "sql"
    }
   },
   "outputs": [],
   "source": [
    "%%sql\n",
    "\n",
    "CREATE TABLE tb_cliente (\n",
    "    cd_cliente INTEGER PRIMARY KEY,\n",
    "    nm_cliente TEXT NOT NULL,\n",
    "    ds_email TEXT NOT NULL,\n",
    "    dt_nascimento DATE\n",
    ");\n",
    "\n",
    "INSERT INTO tb_cliente (nm_cliente, ds_email, dt_nascimento) VALUES\n",
    "    ('Noel Rosa', 'noelrosa@gmail.com', '1910-12-11'),\n",
    "    ('Clara Nunes', 'claranunes@yahoo.com', '1942-08-12'),\n",
    "    ('Clementina de Jesus', 'clementinadejesus@yahoo.com', '1901-02-07'),\n",
    "    ('Angenor de Oliveira Cartola', 'cartola@gmail.com', '1908-10-11');"
   ]
  },
  {
   "attachments": {},
   "cell_type": "markdown",
   "metadata": {},
   "source": [
    "Para visualizarmos os dados da tabela:"
   ]
  },
  {
   "cell_type": "code",
   "execution_count": null,
   "metadata": {
    "vscode": {
     "languageId": "sql"
    }
   },
   "outputs": [],
   "source": [
    "%sql SELECT * FROM tb_cliente"
   ]
  },
  {
   "attachments": {},
   "cell_type": "markdown",
   "metadata": {},
   "source": [
    "Observe no código que a restrição <code>PRIMARY KEY</code> é utilizada no atributo *cd_cliente*. Isto indica que este atributo identifica de forma única os registros da tabela. Em outras palavras, significa que ele é uma **chave primária** (primary key ou PK). \n",
    "\n",
    "Continuando, vamos agora criar a tabela *tb_conta*. Esta tabela deve armazenar os dados de acesso às contas dos clientes. Nela, o atributo *ds_usuario*, que receberá o nome de usuário dos clientes, será a chave primária. A tabela também terá atributos para armazenar a senha, a data de criação e o código do cliente ao qual a conta pertence."
   ]
  },
  {
   "cell_type": "code",
   "execution_count": null,
   "metadata": {
    "vscode": {
     "languageId": "sql"
    }
   },
   "outputs": [],
   "source": [
    "%%sql\n",
    "\n",
    "CREATE TABLE tb_conta (\n",
    "    ds_usuario TEXT PRIMARY KEY,\n",
    "    ds_senha TEXT NOT NULL,\n",
    "    dt_criacao DATE NOT NULL,\n",
    "    cd_cliente INTEGER UNIQUE,\n",
    "    FOREIGN KEY (cd_cliente) REFERENCES tb_cliente (cd_cliente)\n",
    ");\n",
    "\n",
    "INSERT INTO tb_conta (ds_usuario, ds_senha, dt_criacao, cd_cliente) VALUES\n",
    "    ('nrosa', 'conversadebotequim', CURRENT_DATE, 1),\n",
    "    ('claran', 'omarserenou', CURRENT_DATE, 2),\n",
    "    ('cjesus', 'marinheiroso', CURRENT_DATE, 3),\n",
    "    ('cartola', 'precisomeencontrar', CURRENT_DATE, 4);\n",
    "\n",
    "SELECT * FROM tb_conta"
   ]
  },
  {
   "attachments": {},
   "cell_type": "markdown",
   "metadata": {},
   "source": [
    "Observe na criação da tabela que a restrição <code>FOREIGN KEY</code> é utilizada no campo *cd_cliente*, referenciando o atributo de mesmo nome na *tb_cliente*. Isto significa que por meio deste atributo é estabelecido um relacionamento entre as duas tabelas. Assim sendo, podemos dizer que enquanto o atributo *cd_cliente* da *tb_cliente* é uma chave primária, na *tb_conta* o atributo *cd_cliente* é uma **chave estrangeira**.\n",
    "\n",
    "Uma vez que um cliente só pode ter uma única conta, e uma conta só pode pertencer a um único cliente, estamos aqui diante do primeiro tipo de relacionament, o **1:1 (um para um)**.\n",
    "\n",
    "Abaixo um exemplo de consulta para exibir os nomes dos clientes e seus respectivos nomes de usuário:"
   ]
  },
  {
   "cell_type": "code",
   "execution_count": null,
   "metadata": {
    "vscode": {
     "languageId": "sql"
    }
   },
   "outputs": [],
   "source": [
    "%%sql\n",
    "\n",
    "SELECT\n",
    "    cl.nm_cliente,\n",
    "    co.ds_usuario\n",
    "FROM tb_cliente as cl\n",
    "INNER JOIN tb_conta as co\n",
    "    ON cl.cd_cliente = co.cd_cliente"
   ]
  },
  {
   "attachments": {},
   "cell_type": "markdown",
   "metadata": {},
   "source": [
    "## Relacionamento 1:N (um para muitos)\n",
    "\n",
    "Para avançarmos, vamos agora adicionar no banco de dados a tabela *tb_pedido*. Nesta tabela, onde serão armazenados os pedidos realizados pelos clientes, *cd_pedido* será a chave primária e *cd_cliente*, a chave estrangeira para estabelecer o relacionamento com a *tb_cliente*."
   ]
  },
  {
   "cell_type": "code",
   "execution_count": null,
   "metadata": {
    "vscode": {
     "languageId": "sql"
    }
   },
   "outputs": [],
   "source": [
    "%%sql\n",
    "\n",
    "CREATE TABLE tb_pedido (\n",
    "    cd_pedido INTEGER PRIMARY KEY,\n",
    "    dt_pedido DATETIME NOT NULL,\n",
    "    cd_cliente INTEGER,\n",
    "    FOREIGN KEY (cd_cliente) REFERENCES tb_cliente (cd_cliente)\n",
    ");\n",
    "\n",
    "INSERT INTO tb_pedido (dt_pedido, cd_cliente)\n",
    "VALUES\n",
    "    ('2023-01-08 08:00:00', 2), \n",
    "    ('2023-01-15 10:30:00', 1),\n",
    "    ('2023-01-30 18:20:00', 4),\n",
    "    ('2023-02-12 09:45:00', 3),\n",
    "    ('2023-02-20 14:45:00', 1),\n",
    "    ('2023-03-05 20:45:00', 4),\n",
    "    ('2023-03-10 09:15:00', 1),\n",
    "    ('2023-03-18 11:30:00', 2),\n",
    "    ('2023-04-05 12:00:00', 1),\n",
    "    ('2023-04-25 17:00:00', 3),\n",
    "    ('2023-05-06 13:10:00', 2),\n",
    "    ('2023-05-22 16:20:00', 1),\n",
    "    ('2023-06-15 15:30:00', 3);\n",
    "\n",
    "SELECT * FROM tb_pedido"
   ]
  },
  {
   "attachments": {},
   "cell_type": "markdown",
   "metadata": {},
   "source": [
    "Note que neste relacionamento, um cliente pode realizar muitos pedidos. Por outro lado, um pedido só pode estar associado a um único cliente. Logo, temos agora um relacionamento do tipo **1:N (um para muitos)**.\n",
    "\n",
    "Abaixo um exemplo de consulta para exibir a data dos pedidos e o nome dos respectivos clientes:"
   ]
  },
  {
   "cell_type": "code",
   "execution_count": null,
   "metadata": {
    "vscode": {
     "languageId": "sql"
    }
   },
   "outputs": [],
   "source": [
    "%%sql\n",
    "\n",
    "SELECT\n",
    "    p.dt_pedido,\n",
    "    c.nm_cliente\n",
    "FROM tb_pedido as p\n",
    "INNER JOIN tb_cliente as c\n",
    "    ON p.cd_cliente = c.cd_cliente"
   ]
  },
  {
   "attachments": {},
   "cell_type": "markdown",
   "metadata": {},
   "source": [
    "## Relacionamento N:N (muitos para muitos)\n",
    "\n",
    "Para demonstrar o terceiro e último tipo de relacionamento, vamos começar criando a *tb_produto*. Nesta tabela, que armazenará os produtos cadastrados no sistema, o atributo *cd_produto* será a chave primária. Além disso, criaremos atributos para a descrição do produto, a categoria e o preço."
   ]
  },
  {
   "cell_type": "code",
   "execution_count": null,
   "metadata": {
    "vscode": {
     "languageId": "sql"
    }
   },
   "outputs": [],
   "source": [
    "%%sql\n",
    "\n",
    "CREATE TABLE tb_produto (\n",
    "    cd_produto INTEGER PRIMARY KEY,\n",
    "    ds_produto TEXT NOT NULL,\n",
    "    vl_preco REAL NOT NULL\n",
    ");\n",
    "\n",
    "INSERT INTO tb_produto (ds_produto, vl_preco) VALUES\n",
    "    ('Smartphone X', 3600.00),\n",
    "    ('Fones de Ouvido Y', 120.00),\n",
    "    ('Sofá Conforto', 2300.00),\n",
    "    ('Aspirador de Pó', 300.00);\n",
    "\n",
    "SELECT * FROM tb_produto"
   ]
  },
  {
   "attachments": {},
   "cell_type": "markdown",
   "metadata": {},
   "source": [
    "É natural pensarmos que um pedido pode conter um ou mais produtos, ao passo que um produto pode estar associado a um ou mais pedidos. Neste caso, temos um relacionamento do tipo **N:N (muitos para muitos)**. No entanto, não é possível estabelecer este tipo de relacionamento de maneira direta, como nos dois exemplos anteriores. Assim sendo, criaremos a tabela *tb_detalhes_pedido* para associar os produtos, bem como as quantidades compradas, aos seus respectivos pedidos."
   ]
  },
  {
   "cell_type": "code",
   "execution_count": null,
   "metadata": {
    "vscode": {
     "languageId": "sql"
    }
   },
   "outputs": [],
   "source": [
    "%%sql\n",
    "CREATE TABLE tb_detalhes_pedido (\n",
    "    cd_pedido INTEGER,\n",
    "    cd_produto INTEGER,\n",
    "    nr_quantidade INTEGER NOT NULL,\n",
    "    PRIMARY KEY (cd_pedido, cd_produto),\n",
    "    FOREIGN KEY (cd_pedido) REFERENCES tb_pedido (cd_pedido),\n",
    "    FOREIGN KEY (cd_produto) REFERENCES tb_produto (cd_produto)\n",
    ");\n",
    "\n",
    "INSERT INTO tb_detalhes_pedido (cd_pedido, cd_produto, nr_quantidade)\n",
    "VALUES\n",
    "    (1, 1, 1),\n",
    "    (1, 4, 2),\n",
    "    (2, 2, 1),\n",
    "    (3, 1, 1),\n",
    "    (3, 2, 2),\n",
    "    (3, 3, 1),\n",
    "    (4, 4, 1),\n",
    "    (5, 1, 1),\n",
    "    (5, 4, 2),\n",
    "    (6, 2, 1),\n",
    "    (7, 3, 1),\n",
    "    (7, 2, 2),\n",
    "    (8, 4, 1),\n",
    "    (9, 1, 1),\n",
    "    (9, 4, 2),\n",
    "    (10, 2, 1),\n",
    "    (11, 3, 1),\n",
    "    (11, 2, 2),\n",
    "    (12, 4, 1),\n",
    "    (13, 1, 1),\n",
    "    (13, 4, 2);\n",
    "\n",
    "SELECT * FROM tb_detalhes_pedido\n",
    "LIMIT 10"
   ]
  },
  {
   "attachments": {},
   "cell_type": "markdown",
   "metadata": {},
   "source": [
    "Vamos analisar a esrutura desta tabela. Observe que a chave primária é composta pelos atributos *cd_pedido* e *cd_produto*. Isto significa que a combinação destes dois atributos identificam o registro de forma única. Quando a chave primária é composta por mais de uma atributo, também dizemos que ela é uma **chave composta**. Além disso, observe que há um relacionamento do tipo 1:N com a *tb_pedido*, por meio do atributo *cd_pedido*, e um relacionamento do tipo 1:N com a *tb_produto*, por meio od atributo *cd_produto*, que em conjunto configuram o relacionamento N:N entre *tb_pedido* e *tb_produto*.\n",
    "\n",
    "Abaixo um exemplo de consulta para exibir os produtos de cada pedido, bem como o preço unitário, a quantidade pedida e o preço total: "
   ]
  },
  {
   "cell_type": "code",
   "execution_count": null,
   "metadata": {
    "vscode": {
     "languageId": "sql"
    }
   },
   "outputs": [],
   "source": [
    "%%sql\n",
    "\n",
    "SELECT\n",
    "    pe.cd_pedido,\n",
    "    pe.dt_pedido,\n",
    "    pr.ds_produto,\n",
    "    pr.vl_preco,\n",
    "    dp.nr_quantidade,\n",
    "    pr.vl_preco * dp.nr_quantidade as total\n",
    "FROM tb_detalhes_pedido as dp\n",
    "INNER JOIN tb_pedido as pe\n",
    "    ON dp.cd_pedido = pe.cd_pedido\n",
    "INNER JOIN tb_produto as pr\n",
    "    on dp.cd_produto = pr.cd_produto\n",
    "LIMIT 10"
   ]
  }
 ],
 "metadata": {
  "kernelspec": {
   "display_name": ".venv",
   "language": "python",
   "name": "python3"
  },
  "language_info": {
   "codemirror_mode": {
    "name": "ipython",
    "version": 3
   },
   "file_extension": ".py",
   "mimetype": "text/x-python",
   "name": "python",
   "nbconvert_exporter": "python",
   "pygments_lexer": "ipython3",
   "version": "3.9.13"
  },
  "orig_nbformat": 4
 },
 "nbformat": 4,
 "nbformat_minor": 2
}
